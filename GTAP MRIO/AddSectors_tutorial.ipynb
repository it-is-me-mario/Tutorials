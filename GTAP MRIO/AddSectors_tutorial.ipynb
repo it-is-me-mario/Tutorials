{
 "cells": [
  {
   "cell_type": "markdown",
   "metadata": {},
   "source": [
    "# Add Sectors Tutorial\n",
    "This notebook demonstrates how to add new sectors to the GTAP MRIO database using the MARIO library.\n",
    "\n",
    "*N.B. You need to use the MARIO dev branch since the add sectors functionality is not available in the main branch currently.*\n",
    "\n",
    "### Import necessary libraries\n",
    "This block imports the required libraries and suppresses warnings for cleaner output."
   ]
  },
  {
   "cell_type": "code",
   "execution_count": null,
   "metadata": {},
   "outputs": [],
   "source": [
    "import mario \n",
    "import warnings  \n",
    "warnings.filterwarnings(\"ignore\")  # pandas is becoming a bit too noisy with warnings...\n",
    "\n",
    "gtap_path = '/Users/lorenzorinaldi/Library/CloudStorage/OneDrive-SharedLibraries-eNextGen/ENTICE - Documents/Database/MARIO/flows'\n",
    "\n",
    "db = mario.parse_from_txt(\n",
    "    path=gtap_path,\n",
    "    table='IOT',\n",
    "    mode='flows',\n",
    "    name = 'GTAP11Power - MRIO in MARIO format', # optional\n",
    "    year= 2017 # optional\n",
    "    )"
   ]
  },
  {
   "cell_type": "markdown",
   "metadata": {},
   "source": [
    "### Check database properties\n",
    "This block displays the properties of the parsed database."
   ]
  },
  {
   "cell_type": "code",
   "execution_count": 2,
   "metadata": {},
   "outputs": [
    {
     "data": {
      "text/plain": [
       "name = GTAP11Power - MRIO in MARIO format\n",
       "table = IOT\n",
       "scenarios = ['baseline']\n",
       "Factor of production = 25116\n",
       "Satellite account = 16837\n",
       "Consumption category = 4\n",
       "Region = 162\n",
       "Sector = 76"
      ]
     },
     "execution_count": 2,
     "metadata": {},
     "output_type": "execute_result"
    }
   ],
   "source": [
    "# check db properties\n",
    "db"
   ]
  },
  {
   "cell_type": "markdown",
   "metadata": {},
   "source": [
    "### Aggregate satellite accounts\n",
    "This block aggregates the satellite accounts in the database using an external Excel file."
   ]
  },
  {
   "cell_type": "code",
   "execution_count": 3,
   "metadata": {},
   "outputs": [],
   "source": [
    "# Aggregate satellite accounts only\n",
    "db.aggregate(\"Aggregation/Aggregate_GTAP_filled.xlsx\",levels=['Satellite account'])"
   ]
  },
  {
   "cell_type": "markdown",
   "metadata": {},
   "source": [
    "### Check units of satellite accounts\n",
    "This block retrieves the units of the satellite accounts in the database."
   ]
  },
  {
   "cell_type": "code",
   "execution_count": 4,
   "metadata": {},
   "outputs": [
    {
     "data": {
      "text/html": [
       "<div>\n",
       "<style scoped>\n",
       "    .dataframe tbody tr th:only-of-type {\n",
       "        vertical-align: middle;\n",
       "    }\n",
       "\n",
       "    .dataframe tbody tr th {\n",
       "        vertical-align: top;\n",
       "    }\n",
       "\n",
       "    .dataframe thead th {\n",
       "        text-align: right;\n",
       "    }\n",
       "</style>\n",
       "<table border=\"1\" class=\"dataframe\">\n",
       "  <thead>\n",
       "    <tr style=\"text-align: right;\">\n",
       "      <th></th>\n",
       "      <th>unit</th>\n",
       "    </tr>\n",
       "  </thead>\n",
       "  <tbody>\n",
       "    <tr>\n",
       "      <th>EMI_CH4</th>\n",
       "      <td>M ton</td>\n",
       "    </tr>\n",
       "    <tr>\n",
       "      <th>EMI_CO2</th>\n",
       "      <td>M ton</td>\n",
       "    </tr>\n",
       "    <tr>\n",
       "      <th>EMI_N2O</th>\n",
       "      <td>M ton</td>\n",
       "    </tr>\n",
       "    <tr>\n",
       "      <th>ENE</th>\n",
       "      <td>M toe</td>\n",
       "    </tr>\n",
       "  </tbody>\n",
       "</table>\n",
       "</div>"
      ],
      "text/plain": [
       "          unit\n",
       "EMI_CH4  M ton\n",
       "EMI_CO2  M ton\n",
       "EMI_N2O  M ton\n",
       "ENE      M toe"
      ]
     },
     "execution_count": 4,
     "metadata": {},
     "output_type": "execute_result"
    }
   ],
   "source": [
    "db.units['Satellite account']"
   ]
  },
  {
   "cell_type": "markdown",
   "metadata": {},
   "source": [
    "### Get template for adding sectors\n",
    "This block generates an empty Excel template to fill with information about new sectors to be added."
   ]
  },
  {
   "cell_type": "code",
   "execution_count": 5,
   "metadata": {},
   "outputs": [],
   "source": [
    "# Get empty template to fill in with information about new sectors to be added\n",
    "db.get_add_sectors_excel('Add sectors/add_sectors_master.xlsx')"
   ]
  },
  {
   "cell_type": "markdown",
   "metadata": {},
   "source": [
    "### Parse filled template and request inventory templates\n",
    "This block parses the filled Excel file and requests templates for the inventories of the new sectors."
   ]
  },
  {
   "cell_type": "code",
   "execution_count": 6,
   "metadata": {},
   "outputs": [],
   "source": [
    "# Parse the filled excel file and ask for the new sectors inventories templates\n",
    "db.read_add_sectors_excel('Add sectors/add_sectors_master_filled.xlsx', get_inventories=True)"
   ]
  },
  {
   "cell_type": "markdown",
   "metadata": {},
   "source": [
    "### Parse filled inventory templates\n",
    "This block parses the filled inventory templates for the new sectors."
   ]
  },
  {
   "cell_type": "code",
   "execution_count": 7,
   "metadata": {},
   "outputs": [],
   "source": [
    "# Parse the filled excel file and read the new sectors inventories templates once filled\n",
    "db.read_add_sectors_excel('Add sectors/add_sectors_master_filled.xlsx', read_inventories=True)"
   ]
  },
  {
   "cell_type": "markdown",
   "metadata": {},
   "source": [
    "### Print parsed inventories\n",
    "This block displays the parsed inventories for a specific new sector."
   ]
  },
  {
   "cell_type": "code",
   "execution_count": 8,
   "metadata": {},
   "outputs": [
    {
     "data": {
      "text/plain": [
       "{'GCEM': Empty DataFrame\n",
       " Columns: [Quantity, Unit, Input, Item type, DB Item, DB Region, Change type, Source, Notes]\n",
       " Index: []}"
      ]
     },
     "execution_count": 8,
     "metadata": {},
     "output_type": "execute_result"
    }
   ],
   "source": [
    "# Print parsed inventories\n",
    "db.inventories['Green cement']"
   ]
  },
  {
   "cell_type": "markdown",
   "metadata": {},
   "source": [
    "### Print new sectors to be added\n",
    "This block displays the new sectors that are ready to be added to the database."
   ]
  },
  {
   "cell_type": "code",
   "execution_count": 9,
   "metadata": {},
   "outputs": [
    {
     "data": {
      "text/plain": [
       "['Green cement']"
      ]
     },
     "execution_count": 9,
     "metadata": {},
     "output_type": "execute_result"
    }
   ],
   "source": [
    "# Print new sectors to be added\n",
    "db.new_sectors"
   ]
  },
  {
   "cell_type": "markdown",
   "metadata": {},
   "source": [
    "### Add new sectors\n",
    "This block adds the new sectors to the database."
   ]
  },
  {
   "cell_type": "code",
   "execution_count": 10,
   "metadata": {},
   "outputs": [
    {
     "name": "stdout",
     "output_type": "stream",
     "text": [
      "GCEM\n"
     ]
    }
   ],
   "source": [
    "# Add sectors\n",
    "db.add_sectors()"
   ]
  },
  {
   "cell_type": "markdown",
   "metadata": {},
   "source": [
    "### Recheck database properties\n",
    "This block displays the properties of the database after adding the new sectors."
   ]
  },
  {
   "cell_type": "code",
   "execution_count": 11,
   "metadata": {},
   "outputs": [
    {
     "data": {
      "text/plain": [
       "name = GTAP11Power - MRIO in MARIO format\n",
       "table = IOT\n",
       "scenarios = ['baseline']\n",
       "Factor of production = 25116\n",
       "Satellite account = 4\n",
       "Consumption category = 4\n",
       "Region = 162\n",
       "Sector = 77"
      ]
     },
     "execution_count": 11,
     "metadata": {},
     "output_type": "execute_result"
    }
   ],
   "source": [
    "# Recheck db properties\n",
    "db"
   ]
  },
  {
   "cell_type": "code",
   "execution_count": null,
   "metadata": {},
   "outputs": [],
   "source": []
  }
 ],
 "metadata": {
  "kernelspec": {
   "display_name": "mario",
   "language": "python",
   "name": "python3"
  },
  "language_info": {
   "codemirror_mode": {
    "name": "ipython",
    "version": 3
   },
   "file_extension": ".py",
   "mimetype": "text/x-python",
   "name": "python",
   "nbconvert_exporter": "python",
   "pygments_lexer": "ipython3",
   "version": "3.10.14"
  }
 },
 "nbformat": 4,
 "nbformat_minor": 2
}
