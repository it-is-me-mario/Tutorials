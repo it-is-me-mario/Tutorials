{
 "cells": [
  {
   "cell_type": "markdown",
   "metadata": {},
   "source": [
    "## New Exiobase v3.9.4 is out!\n",
    "\n",
    "You can adopt both pymrio AND MARIO for using it in your analysis.\n",
    "\n",
    "Here is how to switch to MARIO after parsing with pymrio.\n",
    "\n",
    "Install mario following the instructions at the following link (pymrio will be also installed): https://mario-suite.readthedocs.io/en/latest/intro.html#installation\n",
    "\n",
    "___"
   ]
  },
  {
   "cell_type": "markdown",
   "metadata": {},
   "source": [
    "Download Exiobase via pymrio for a selected year and system type, providing a folder path"
   ]
  },
  {
   "cell_type": "code",
   "execution_count": 2,
   "metadata": {},
   "outputs": [],
   "source": [
    "import pymrio\n",
    "\n",
    "folder_path = '/Users/lorenzorinaldi/Downloads' # Of course this is my path, where I want to download a specific version of EXIOBASE\n",
    "selected_year = 2020 # Choose the year you want to use for your analysis (can even be a list of years)\n",
    "selected_system = \"ixi\" # Choose the system you want to use for your analysis (pxp or ixi)\n",
    "\n",
    "pymrio.download_exiobase3(\n",
    "    storage_folder = folder_path,\n",
    "    years = selected_year,\n",
    "    system = selected_system,\n",
    "    )\n",
    "\n",
    "file_name = f'IOT_{selected_year}_{selected_system}.zip'"
   ]
  },
  {
   "cell_type": "markdown",
   "metadata": {},
   "source": [
    "Parse Exiobase with pymrio"
   ]
  },
  {
   "cell_type": "code",
   "execution_count": 3,
   "metadata": {},
   "outputs": [
    {
     "data": {
      "text/plain": [
       "Description: EXIOBASE version 3.9.4 - ixi for 2020\n",
       "MRIO Name: EXIO_IOT_2020_ixi\n",
       "System: ixi\n",
       "Version: 3.9.4\n",
       "File: None\n",
       "History:\n",
       "20250203 14:37:27 - MODIFICATION -  Changed country names\n",
       "20250203 14:37:27 - FILEIO -  Added satellite account from employment\n",
       "20250203 14:37:27 - FILEIO -  Added satellite account from material\n",
       "20250203 14:37:27 - FILEIO -  Added satellite account from nutrients\n",
       "20250203 14:37:27 - FILEIO -  Added satellite account from water\n",
       "20250203 14:37:26 - FILEIO -  Added satellite account from factor_inputs\n",
       "20250203 14:37:26 - FILEIO -  Added satellite account from land\n",
       "20250203 14:37:26 - FILEIO -  Added satellite account from energy\n",
       "20250203 14:37:26 - FILEIO -  Added satellite account from air_emissions\n",
       "20250203 14:37:15 - FILEIO -  Loaded IO system from /Users/lorenzorinaldi/Downloads/IOT_2020_ixi.zip - \n",
       " ... (more lines in history)"
      ]
     },
     "execution_count": 3,
     "metadata": {},
     "output_type": "execute_result"
    }
   ],
   "source": [
    "your_path = folder_path + \"/\" + file_name\n",
    "exio3 = pymrio.parse_exiobase3(your_path)\n",
    "exio3.meta"
   ]
  },
  {
   "cell_type": "markdown",
   "metadata": {},
   "source": [
    "Parse the pymrio object into mario to use all mario functionalities!"
   ]
  },
  {
   "cell_type": "code",
   "execution_count": 4,
   "metadata": {},
   "outputs": [
    {
     "name": "stderr",
     "output_type": "stream",
     "text": [
      "/opt/anaconda3/envs/mario/lib/python3.10/site-packages/pymrio/core/mriosystem.py:900: FutureWarning:\n",
      "\n",
      "DataFrame.groupby with axis=1 is deprecated. Do `frame.T.groupby(...)` without axis instead.\n",
      "\n",
      "/opt/anaconda3/envs/mario/lib/python3.10/site-packages/pymrio/core/mriosystem.py:956: FutureWarning:\n",
      "\n",
      "DataFrame.groupby with axis=1 is deprecated. Do `frame.T.groupby(...)` without axis instead.\n",
      "\n",
      "/opt/anaconda3/envs/mario/lib/python3.10/site-packages/pymrio/core/mriosystem.py:984: FutureWarning:\n",
      "\n",
      "DataFrame.groupby with axis=1 is deprecated. Do `frame.T.groupby(...)` without axis instead.\n",
      "\n",
      "/opt/anaconda3/envs/mario/lib/python3.10/site-packages/pymrio/core/mriosystem.py:993: FutureWarning:\n",
      "\n",
      "DataFrame.groupby with axis=1 is deprecated. Do `frame.T.groupby(...)` without axis instead.\n",
      "\n",
      "/opt/anaconda3/envs/mario/lib/python3.10/site-packages/pymrio/core/mriosystem.py:1001: FutureWarning:\n",
      "\n",
      "DataFrame.groupby with axis=1 is deprecated. Do `frame.T.groupby(...)` without axis instead.\n",
      "\n",
      "/opt/anaconda3/envs/mario/lib/python3.10/site-packages/pymrio/core/mriosystem.py:1007: FutureWarning:\n",
      "\n",
      "DataFrame.groupby with axis=1 is deprecated. Do `frame.T.groupby(...)` without axis instead.\n",
      "\n",
      "/opt/anaconda3/envs/mario/lib/python3.10/site-packages/pymrio/core/mriosystem.py:900: FutureWarning:\n",
      "\n",
      "DataFrame.groupby with axis=1 is deprecated. Do `frame.T.groupby(...)` without axis instead.\n",
      "\n",
      "/opt/anaconda3/envs/mario/lib/python3.10/site-packages/pymrio/core/mriosystem.py:956: FutureWarning:\n",
      "\n",
      "DataFrame.groupby with axis=1 is deprecated. Do `frame.T.groupby(...)` without axis instead.\n",
      "\n",
      "/opt/anaconda3/envs/mario/lib/python3.10/site-packages/pymrio/core/mriosystem.py:984: FutureWarning:\n",
      "\n",
      "DataFrame.groupby with axis=1 is deprecated. Do `frame.T.groupby(...)` without axis instead.\n",
      "\n",
      "/opt/anaconda3/envs/mario/lib/python3.10/site-packages/pymrio/core/mriosystem.py:993: FutureWarning:\n",
      "\n",
      "DataFrame.groupby with axis=1 is deprecated. Do `frame.T.groupby(...)` without axis instead.\n",
      "\n",
      "/opt/anaconda3/envs/mario/lib/python3.10/site-packages/pymrio/core/mriosystem.py:1001: FutureWarning:\n",
      "\n",
      "DataFrame.groupby with axis=1 is deprecated. Do `frame.T.groupby(...)` without axis instead.\n",
      "\n",
      "/opt/anaconda3/envs/mario/lib/python3.10/site-packages/pymrio/core/mriosystem.py:1007: FutureWarning:\n",
      "\n",
      "DataFrame.groupby with axis=1 is deprecated. Do `frame.T.groupby(...)` without axis instead.\n",
      "\n",
      "/opt/anaconda3/envs/mario/lib/python3.10/site-packages/pymrio/core/mriosystem.py:900: FutureWarning:\n",
      "\n",
      "DataFrame.groupby with axis=1 is deprecated. Do `frame.T.groupby(...)` without axis instead.\n",
      "\n",
      "/opt/anaconda3/envs/mario/lib/python3.10/site-packages/pymrio/core/mriosystem.py:956: FutureWarning:\n",
      "\n",
      "DataFrame.groupby with axis=1 is deprecated. Do `frame.T.groupby(...)` without axis instead.\n",
      "\n",
      "/opt/anaconda3/envs/mario/lib/python3.10/site-packages/pymrio/core/mriosystem.py:984: FutureWarning:\n",
      "\n",
      "DataFrame.groupby with axis=1 is deprecated. Do `frame.T.groupby(...)` without axis instead.\n",
      "\n",
      "/opt/anaconda3/envs/mario/lib/python3.10/site-packages/pymrio/core/mriosystem.py:993: FutureWarning:\n",
      "\n",
      "DataFrame.groupby with axis=1 is deprecated. Do `frame.T.groupby(...)` without axis instead.\n",
      "\n",
      "/opt/anaconda3/envs/mario/lib/python3.10/site-packages/pymrio/core/mriosystem.py:1001: FutureWarning:\n",
      "\n",
      "DataFrame.groupby with axis=1 is deprecated. Do `frame.T.groupby(...)` without axis instead.\n",
      "\n",
      "/opt/anaconda3/envs/mario/lib/python3.10/site-packages/pymrio/core/mriosystem.py:1007: FutureWarning:\n",
      "\n",
      "DataFrame.groupby with axis=1 is deprecated. Do `frame.T.groupby(...)` without axis instead.\n",
      "\n",
      "/opt/anaconda3/envs/mario/lib/python3.10/site-packages/pymrio/core/mriosystem.py:900: FutureWarning:\n",
      "\n",
      "DataFrame.groupby with axis=1 is deprecated. Do `frame.T.groupby(...)` without axis instead.\n",
      "\n",
      "/opt/anaconda3/envs/mario/lib/python3.10/site-packages/pymrio/core/mriosystem.py:956: FutureWarning:\n",
      "\n",
      "DataFrame.groupby with axis=1 is deprecated. Do `frame.T.groupby(...)` without axis instead.\n",
      "\n",
      "/opt/anaconda3/envs/mario/lib/python3.10/site-packages/pymrio/core/mriosystem.py:984: FutureWarning:\n",
      "\n",
      "DataFrame.groupby with axis=1 is deprecated. Do `frame.T.groupby(...)` without axis instead.\n",
      "\n",
      "/opt/anaconda3/envs/mario/lib/python3.10/site-packages/pymrio/core/mriosystem.py:993: FutureWarning:\n",
      "\n",
      "DataFrame.groupby with axis=1 is deprecated. Do `frame.T.groupby(...)` without axis instead.\n",
      "\n",
      "/opt/anaconda3/envs/mario/lib/python3.10/site-packages/pymrio/core/mriosystem.py:1001: FutureWarning:\n",
      "\n",
      "DataFrame.groupby with axis=1 is deprecated. Do `frame.T.groupby(...)` without axis instead.\n",
      "\n",
      "/opt/anaconda3/envs/mario/lib/python3.10/site-packages/pymrio/core/mriosystem.py:1007: FutureWarning:\n",
      "\n",
      "DataFrame.groupby with axis=1 is deprecated. Do `frame.T.groupby(...)` without axis instead.\n",
      "\n",
      "/opt/anaconda3/envs/mario/lib/python3.10/site-packages/pymrio/core/mriosystem.py:900: FutureWarning:\n",
      "\n",
      "DataFrame.groupby with axis=1 is deprecated. Do `frame.T.groupby(...)` without axis instead.\n",
      "\n",
      "/opt/anaconda3/envs/mario/lib/python3.10/site-packages/pymrio/core/mriosystem.py:956: FutureWarning:\n",
      "\n",
      "DataFrame.groupby with axis=1 is deprecated. Do `frame.T.groupby(...)` without axis instead.\n",
      "\n",
      "/opt/anaconda3/envs/mario/lib/python3.10/site-packages/pymrio/core/mriosystem.py:984: FutureWarning:\n",
      "\n",
      "DataFrame.groupby with axis=1 is deprecated. Do `frame.T.groupby(...)` without axis instead.\n",
      "\n",
      "/opt/anaconda3/envs/mario/lib/python3.10/site-packages/pymrio/core/mriosystem.py:993: FutureWarning:\n",
      "\n",
      "DataFrame.groupby with axis=1 is deprecated. Do `frame.T.groupby(...)` without axis instead.\n",
      "\n",
      "/opt/anaconda3/envs/mario/lib/python3.10/site-packages/pymrio/core/mriosystem.py:1001: FutureWarning:\n",
      "\n",
      "DataFrame.groupby with axis=1 is deprecated. Do `frame.T.groupby(...)` without axis instead.\n",
      "\n",
      "/opt/anaconda3/envs/mario/lib/python3.10/site-packages/pymrio/core/mriosystem.py:1007: FutureWarning:\n",
      "\n",
      "DataFrame.groupby with axis=1 is deprecated. Do `frame.T.groupby(...)` without axis instead.\n",
      "\n",
      "/opt/anaconda3/envs/mario/lib/python3.10/site-packages/pymrio/core/mriosystem.py:900: FutureWarning:\n",
      "\n",
      "DataFrame.groupby with axis=1 is deprecated. Do `frame.T.groupby(...)` without axis instead.\n",
      "\n",
      "/opt/anaconda3/envs/mario/lib/python3.10/site-packages/pymrio/core/mriosystem.py:956: FutureWarning:\n",
      "\n",
      "DataFrame.groupby with axis=1 is deprecated. Do `frame.T.groupby(...)` without axis instead.\n",
      "\n",
      "/opt/anaconda3/envs/mario/lib/python3.10/site-packages/pymrio/core/mriosystem.py:984: FutureWarning:\n",
      "\n",
      "DataFrame.groupby with axis=1 is deprecated. Do `frame.T.groupby(...)` without axis instead.\n",
      "\n",
      "/opt/anaconda3/envs/mario/lib/python3.10/site-packages/pymrio/core/mriosystem.py:993: FutureWarning:\n",
      "\n",
      "DataFrame.groupby with axis=1 is deprecated. Do `frame.T.groupby(...)` without axis instead.\n",
      "\n",
      "/opt/anaconda3/envs/mario/lib/python3.10/site-packages/pymrio/core/mriosystem.py:1001: FutureWarning:\n",
      "\n",
      "DataFrame.groupby with axis=1 is deprecated. Do `frame.T.groupby(...)` without axis instead.\n",
      "\n",
      "/opt/anaconda3/envs/mario/lib/python3.10/site-packages/pymrio/core/mriosystem.py:1007: FutureWarning:\n",
      "\n",
      "DataFrame.groupby with axis=1 is deprecated. Do `frame.T.groupby(...)` without axis instead.\n",
      "\n",
      "/opt/anaconda3/envs/mario/lib/python3.10/site-packages/pymrio/core/mriosystem.py:900: FutureWarning:\n",
      "\n",
      "DataFrame.groupby with axis=1 is deprecated. Do `frame.T.groupby(...)` without axis instead.\n",
      "\n",
      "/opt/anaconda3/envs/mario/lib/python3.10/site-packages/pymrio/core/mriosystem.py:956: FutureWarning:\n",
      "\n",
      "DataFrame.groupby with axis=1 is deprecated. Do `frame.T.groupby(...)` without axis instead.\n",
      "\n",
      "/opt/anaconda3/envs/mario/lib/python3.10/site-packages/pymrio/core/mriosystem.py:984: FutureWarning:\n",
      "\n",
      "DataFrame.groupby with axis=1 is deprecated. Do `frame.T.groupby(...)` without axis instead.\n",
      "\n",
      "/opt/anaconda3/envs/mario/lib/python3.10/site-packages/pymrio/core/mriosystem.py:993: FutureWarning:\n",
      "\n",
      "DataFrame.groupby with axis=1 is deprecated. Do `frame.T.groupby(...)` without axis instead.\n",
      "\n",
      "/opt/anaconda3/envs/mario/lib/python3.10/site-packages/pymrio/core/mriosystem.py:1001: FutureWarning:\n",
      "\n",
      "DataFrame.groupby with axis=1 is deprecated. Do `frame.T.groupby(...)` without axis instead.\n",
      "\n",
      "/opt/anaconda3/envs/mario/lib/python3.10/site-packages/pymrio/core/mriosystem.py:1007: FutureWarning:\n",
      "\n",
      "DataFrame.groupby with axis=1 is deprecated. Do `frame.T.groupby(...)` without axis instead.\n",
      "\n",
      "/opt/anaconda3/envs/mario/lib/python3.10/site-packages/pymrio/core/mriosystem.py:900: FutureWarning:\n",
      "\n",
      "DataFrame.groupby with axis=1 is deprecated. Do `frame.T.groupby(...)` without axis instead.\n",
      "\n",
      "/opt/anaconda3/envs/mario/lib/python3.10/site-packages/pymrio/core/mriosystem.py:956: FutureWarning:\n",
      "\n",
      "DataFrame.groupby with axis=1 is deprecated. Do `frame.T.groupby(...)` without axis instead.\n",
      "\n",
      "/opt/anaconda3/envs/mario/lib/python3.10/site-packages/pymrio/core/mriosystem.py:984: FutureWarning:\n",
      "\n",
      "DataFrame.groupby with axis=1 is deprecated. Do `frame.T.groupby(...)` without axis instead.\n",
      "\n",
      "/opt/anaconda3/envs/mario/lib/python3.10/site-packages/pymrio/core/mriosystem.py:993: FutureWarning:\n",
      "\n",
      "DataFrame.groupby with axis=1 is deprecated. Do `frame.T.groupby(...)` without axis instead.\n",
      "\n",
      "/opt/anaconda3/envs/mario/lib/python3.10/site-packages/pymrio/core/mriosystem.py:1001: FutureWarning:\n",
      "\n",
      "DataFrame.groupby with axis=1 is deprecated. Do `frame.T.groupby(...)` without axis instead.\n",
      "\n",
      "/opt/anaconda3/envs/mario/lib/python3.10/site-packages/pymrio/core/mriosystem.py:1007: FutureWarning:\n",
      "\n",
      "DataFrame.groupby with axis=1 is deprecated. Do `frame.T.groupby(...)` without axis instead.\n",
      "\n",
      "WARNING:mario.core.CoreIO:Database: to calculate v following matrices are need.\n",
      "['X'].Trying to calculate dependencies.\n"
     ]
    },
    {
     "data": {
      "text/plain": [
       "name = EXIO_IOT_2020_ixi\n",
       "table = IOT\n",
       "scenarios = ['baseline']\n",
       "Factor of production = 9\n",
       "Satellite account = 726\n",
       "Consumption category = 7\n",
       "Region = 49\n",
       "Sector = 163"
      ]
     },
     "execution_count": 4,
     "metadata": {},
     "output_type": "execute_result"
    }
   ],
   "source": [
    "import mario\n",
    "\n",
    "sat_acc = {  # In this way we are assigning all the indicators in the extensions that we want to map as Satellite Accounts\n",
    "    'material': 'all',\n",
    "    'water': 'all',\n",
    "    'employment': 'all',\n",
    "    'air_emissions': 'all',\n",
    "    'energy': 'all',\n",
    "    'land': 'all',\n",
    "    'nutrients': 'all'\n",
    "} \n",
    "\n",
    "value_added = {'factor_inputs': 'all'} # In this way we are assigning all the indicators in the extensions that we want to map as Value Added\n",
    "\n",
    "World = mario.parse_from_pymrio(exio3, satellite_account=sat_acc, value_added=value_added)\n",
    "World"
   ]
  },
  {
   "cell_type": "code",
   "execution_count": 6,
   "metadata": {},
   "outputs": [
    {
     "data": {
      "text/plain": [
       "['Energy use - Emission relevant',\n",
       " 'Energy use - Final',\n",
       " 'Energy use - Gross',\n",
       " 'Energy use - Net']"
      ]
     },
     "execution_count": 6,
     "metadata": {},
     "output_type": "execute_result"
    }
   ],
   "source": [
    "World.search('Satellite account','energy')"
   ]
  },
  {
   "cell_type": "code",
   "execution_count": 8,
   "metadata": {},
   "outputs": [
    {
     "name": "stderr",
     "output_type": "stream",
     "text": [
      "WARNING:mario.core.CoreIO:Database: to calculate f following matrices are need.\n",
      "['w'].Trying to calculate dependencies.\n"
     ]
    }
   ],
   "source": [
    "f = World.f"
   ]
  },
  {
   "cell_type": "code",
   "execution_count": null,
   "metadata": {},
   "outputs": [],
   "source": []
  }
 ],
 "metadata": {
  "kernelspec": {
   "display_name": "mario",
   "language": "python",
   "name": "python3"
  },
  "language_info": {
   "codemirror_mode": {
    "name": "ipython",
    "version": 3
   },
   "file_extension": ".py",
   "mimetype": "text/x-python",
   "name": "python",
   "nbconvert_exporter": "python",
   "pygments_lexer": "ipython3",
   "version": "3.10.14"
  }
 },
 "nbformat": 4,
 "nbformat_minor": 2
}
